{
 "cells": [
  {
   "cell_type": "code",
   "execution_count": 30,
   "id": "6e954965-69d8-4b7d-83da-ef32521b3215",
   "metadata": {},
   "outputs": [
    {
     "name": "stdout",
     "output_type": "stream",
     "text": [
      "Model Accuracy: 0.79\n",
      "\n",
      "Classification Report:\n",
      "              precision    recall  f1-score   support\n",
      "\n",
      "           0       0.81      0.84      0.83       105\n",
      "           1       0.76      0.73      0.74        74\n",
      "\n",
      "    accuracy                           0.79       179\n",
      "   macro avg       0.79      0.78      0.79       179\n",
      "weighted avg       0.79      0.79      0.79       179\n",
      "\n",
      "\n",
      "Confusion Matrix:\n",
      "[[88 17]\n",
      " [20 54]]\n",
      "\n",
      "Enter passenger details for survival prediction:\n"
     ]
    },
    {
     "name": "stdin",
     "output_type": "stream",
     "text": [
      "Enter Passenger class (1, 2, or 3):  3\n",
      "Enter Sex (0 for male, 1 for female):  0\n",
      "Enter Age:  22\n",
      "Enter Fare:  7.25\n",
      "Enter Embarked (0 for S, 1 for C, 2 for Q):  0\n"
     ]
    },
    {
     "name": "stdout",
     "output_type": "stream",
     "text": [
      "\n",
      "Prediction for Braund, Mr. Owen Harris: Did not survive\n"
     ]
    }
   ],
   "source": [
    "import pandas as pd\n",
    "from sklearn.model_selection import train_test_split\n",
    "from sklearn.linear_model import LogisticRegression\n",
    "from sklearn.metrics import accuracy_score, classification_report, confusion_matrix\n",
    "\n",
    "# Load the Titanic dataset\n",
    "dataset_path = (r\"C:\\Users\\xavie\\OneDrive\\Desktop\\codsoft_internship\\Titanic_Dataset.csv\")\n",
    "data = pd.read_csv(dataset_path)\n",
    "\n",
    "# Data preprocessing: handling missing values and encoding categorical features\n",
    "data[\"Age\"] = data[\"Age\"].fillna(data[\"Age\"].median())\n",
    "data[\"Embarked\"] = data[\"Embarked\"].fillna(\"S\")\n",
    "data[\"Sex\"] = data[\"Sex\"].map({\"male\": 0, \"female\": 1})\n",
    "data[\"Embarked\"] = data[\"Embarked\"].map({\"S\": 0, \"C\": 1, \"Q\": 2})\n",
    "\n",
    "# Ensure column naming consistency\n",
    "if \"Passenger_class\" in data.columns:\n",
    "    data.rename(columns={\"Passenger_class\": \"Pclass\"}, inplace=True)\n",
    "\n",
    "# Define features (input) and target (output)\n",
    "features = data[[\"Pclass\", \"Sex\", \"Age\", \"Fare\", \"Embarked\"]]\n",
    "target = data[\"Survived\"]\n",
    "\n",
    "# Split the dataset into training and testing sets\n",
    "X_train, X_test, y_train, y_test = train_test_split(features, target, test_size=0.2, random_state=42)\n",
    "\n",
    "# Initialize and train a Logistic Regression model\n",
    "model = LogisticRegression(max_iter=200)\n",
    "model.fit(X_train, y_train)\n",
    "\n",
    "# Predict outcomes on the test set and evaluate the model's performance\n",
    "predictions = model.predict(X_test)\n",
    "accuracy = accuracy_score(y_test, predictions)\n",
    "print(f\"Model Accuracy: {accuracy:.2f}\")\n",
    "\n",
    "# Display additional evaluation metrics\n",
    "print(\"\\nClassification Report:\")\n",
    "print(classification_report(y_test, predictions))\n",
    "print(\"\\nConfusion Matrix:\")\n",
    "print(confusion_matrix(y_test, predictions))\n",
    "\n",
    "# Function to predict survival for a user-provided passenger's details and retrieve the name\n",
    "def predict_passenger_survival():\n",
    "    try:\n",
    "        # Collect passenger details from user input\n",
    "        print(\"\\nEnter passenger details for survival prediction:\")\n",
    "        pclass = int(input(\"Enter Passenger class (1, 2, or 3): \"))\n",
    "        sex = int(input(\"Enter Sex (0 for male, 1 for female): \"))\n",
    "        age = float(input(\"Enter Age: \"))\n",
    "        fare = float(input(\"Enter Fare: \"))\n",
    "        embarked = int(input(\"Enter Embarked (0 for S, 1 for C, 2 for Q): \"))\n",
    "\n",
    "        # Create a DataFrame from the input data for prediction\n",
    "        passenger_data = pd.DataFrame(\n",
    "            [[pclass, sex, age, fare, embarked]],\n",
    "            columns=[\"Pclass\", \"Sex\", \"Age\", \"Fare\", \"Embarked\"]\n",
    "        )\n",
    "\n",
    "        # Search for a matching passenger from the dataset\n",
    "        matching_passenger = data[\n",
    "            (data[\"Pclass\"] == pclass)\n",
    "            & (data[\"Sex\"] == sex)\n",
    "            & (data[\"Age\"] == age)\n",
    "            & (data[\"Fare\"] == fare)\n",
    "            & (data[\"Embarked\"] == embarked)\n",
    "        ]\n",
    "\n",
    "        if not matching_passenger.empty:\n",
    "            passenger_name = matching_passenger[\"Name\"].iloc[0]\n",
    "            prediction = model.predict(passenger_data)\n",
    "            survival_status = \"Survived\" if prediction[0] == 1 else \"Did not survive\"\n",
    "            print(f\"\\nPrediction for {passenger_name}: {survival_status}\")\n",
    "        else:\n",
    "            print(\"No matching passenger found in the dataset.\")\n",
    "\n",
    "    except ValueError:\n",
    "        print(\"Invalid input. Please enter valid details.\")\n",
    "\n",
    "# Run the prediction function for a specific passenger based on user input\n",
    "predict_passenger_survival()\n"
   ]
  },
  {
   "cell_type": "code",
   "execution_count": null,
   "id": "b3aca048-66da-49b3-991b-4dac524ecf18",
   "metadata": {},
   "outputs": [],
   "source": []
  }
 ],
 "metadata": {
  "kernelspec": {
   "display_name": "Python 3 (ipykernel)",
   "language": "python",
   "name": "python3"
  },
  "language_info": {
   "codemirror_mode": {
    "name": "ipython",
    "version": 3
   },
   "file_extension": ".py",
   "mimetype": "text/x-python",
   "name": "python",
   "nbconvert_exporter": "python",
   "pygments_lexer": "ipython3",
   "version": "3.12.7"
  }
 },
 "nbformat": 4,
 "nbformat_minor": 5
}
